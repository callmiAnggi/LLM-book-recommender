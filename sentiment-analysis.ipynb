{
 "cells": [
  {
   "cell_type": "code",
   "id": "initial_id",
   "metadata": {
    "collapsed": true,
    "ExecuteTime": {
     "end_time": "2025-10-04T14:29:07.172104Z",
     "start_time": "2025-10-04T14:29:02.851428Z"
    }
   },
   "source": [
    "import pandas as pd\n",
    "books = pd.read_csv('books_with_categories.csv')"
   ],
   "outputs": [],
   "execution_count": 1
  },
  {
   "metadata": {
    "ExecuteTime": {
     "end_time": "2025-10-04T14:29:58.430883Z",
     "start_time": "2025-10-04T14:29:09.511047Z"
    }
   },
   "cell_type": "code",
   "source": [
    "from transformers import pipeline\n",
    "classifier = pipeline(\"text-classification\", model=\"j-hartmann/emotion-english-distilroberta-base\", return_all_scores=True)\n",
    "classifier(\"I love this!\")\n"
   ],
   "id": "8e3c7096543abf7c",
   "outputs": [
    {
     "name": "stderr",
     "output_type": "stream",
     "text": [
      "Device set to use cpu\n",
      "C:\\Users\\asusv\\PycharmProjects\\Book-recommender\\.venv\\Lib\\site-packages\\transformers\\pipelines\\text_classification.py:106: UserWarning: `return_all_scores` is now deprecated,  if want a similar functionality use `top_k=None` instead of `return_all_scores=True` or `top_k=1` instead of `return_all_scores=False`.\n",
      "  warnings.warn(\n"
     ]
    },
    {
     "data": {
      "text/plain": [
       "[[{'label': 'anger', 'score': 0.004419783595949411},\n",
       "  {'label': 'disgust', 'score': 0.0016119886422529817},\n",
       "  {'label': 'fear', 'score': 0.0004138524236623198},\n",
       "  {'label': 'joy', 'score': 0.9771687984466553},\n",
       "  {'label': 'neutral', 'score': 0.005764580797404051},\n",
       "  {'label': 'sadness', 'score': 0.002092391485348344},\n",
       "  {'label': 'surprise', 'score': 0.00852868054062128}]]"
      ]
     },
     "execution_count": 2,
     "metadata": {},
     "output_type": "execute_result"
    }
   ],
   "execution_count": 2
  },
  {
   "metadata": {
    "ExecuteTime": {
     "end_time": "2025-10-04T14:30:04.627576Z",
     "start_time": "2025-10-04T14:30:02.178869Z"
    }
   },
   "cell_type": "code",
   "source": [
    "#modified\n",
    "from transformers import pipeline\n",
    "classifier = pipeline(\"text-classification\",\n",
    "                      model=\"j-hartmann/emotion-english-distilroberta-base\",\n",
    "                      top_k = None,\n",
    "                      device = -1)\n",
    "classifier(\"I love this!\")\n"
   ],
   "id": "598f657f0fc97709",
   "outputs": [
    {
     "name": "stderr",
     "output_type": "stream",
     "text": [
      "Device set to use cpu\n"
     ]
    },
    {
     "data": {
      "text/plain": [
       "[[{'label': 'joy', 'score': 0.9771687984466553},\n",
       "  {'label': 'surprise', 'score': 0.00852868054062128},\n",
       "  {'label': 'neutral', 'score': 0.005764580797404051},\n",
       "  {'label': 'anger', 'score': 0.004419783595949411},\n",
       "  {'label': 'sadness', 'score': 0.002092391485348344},\n",
       "  {'label': 'disgust', 'score': 0.0016119886422529817},\n",
       "  {'label': 'fear', 'score': 0.0004138524236623198}]]"
      ]
     },
     "execution_count": 3,
     "metadata": {},
     "output_type": "execute_result"
    }
   ],
   "execution_count": 3
  },
  {
   "metadata": {
    "ExecuteTime": {
     "end_time": "2025-10-04T14:30:07.367701Z",
     "start_time": "2025-10-04T14:30:07.356152Z"
    }
   },
   "cell_type": "code",
   "source": "books[\"description\"][0]",
   "id": "da23abdefeb4b5aa",
   "outputs": [
    {
     "data": {
      "text/plain": [
       "'A NOVEL THAT READERS and critics have been eagerly anticipating for over a decade, Gilead is an astonishingly imagined story of remarkable lives. John Ames is a preacher, the son of a preacher and the grandson (both maternal and paternal) of preachers. It’s 1956 in Gilead, Iowa, towards the end of the Reverend Ames’s life, and he is absorbed in recording his family’s story, a legacy for the young son he will never see grow up. Haunted by his grandfather’s presence, John tells of the rift between his grandfather and his father: the elder, an angry visionary who fought for the abolitionist cause, and his son, an ardent pacifist. He is troubled, too, by his prodigal namesake, Jack (John Ames) Boughton, his best friend’s lost son who returns to Gilead searching for forgiveness and redemption. Told in John Ames’s joyous, rambling voice that finds beauty, humour and truth in the smallest of life’s details, Gilead is a song of celebration and acceptance of the best and the worst the world has to offer. At its heart is a tale of the sacred bonds between fathers and sons, pitch-perfect in style and story, set to dazzle critics and readers alike.'"
      ]
     },
     "execution_count": 4,
     "metadata": {},
     "output_type": "execute_result"
    }
   ],
   "execution_count": 4
  },
  {
   "metadata": {},
   "cell_type": "markdown",
   "source": "seems that we have a bit of a mixture of emotions and get only one emotion as the output might lose the information",
   "id": "ca1917d6aa1c1ade"
  },
  {
   "metadata": {
    "ExecuteTime": {
     "end_time": "2025-10-04T14:30:18.455594Z",
     "start_time": "2025-10-04T14:30:17.700386Z"
    }
   },
   "cell_type": "code",
   "source": "classifier(books[\"description\"][0])",
   "id": "4d3f3c32d0353650",
   "outputs": [
    {
     "data": {
      "text/plain": [
       "[[{'label': 'fear', 'score': 0.6548405885696411},\n",
       "  {'label': 'neutral', 'score': 0.16985228657722473},\n",
       "  {'label': 'sadness', 'score': 0.11640921980142593},\n",
       "  {'label': 'surprise', 'score': 0.02070065587759018},\n",
       "  {'label': 'disgust', 'score': 0.019100677222013474},\n",
       "  {'label': 'joy', 'score': 0.01516144908964634},\n",
       "  {'label': 'anger', 'score': 0.003935146611183882}]]"
      ]
     },
     "execution_count": 5,
     "metadata": {},
     "output_type": "execute_result"
    }
   ],
   "execution_count": 5
  },
  {
   "metadata": {},
   "cell_type": "markdown",
   "source": [
    "seems not exactly right because we can see there is a mixture of tone emotions\n",
    "so what we can do instead is split this description down into individual sentences and classify on that basis"
   ],
   "id": "f836e424babdcb15"
  },
  {
   "metadata": {
    "ExecuteTime": {
     "end_time": "2025-10-04T14:30:24.940410Z",
     "start_time": "2025-10-04T14:30:24.212177Z"
    }
   },
   "cell_type": "code",
   "source": "classifier(books[\"description\"][0].split(\".\"))",
   "id": "b6cdba2428c49379",
   "outputs": [
    {
     "data": {
      "text/plain": [
       "[[{'label': 'surprise', 'score': 0.7296020984649658},\n",
       "  {'label': 'neutral', 'score': 0.14038600027561188},\n",
       "  {'label': 'fear', 'score': 0.06816228479146957},\n",
       "  {'label': 'joy', 'score': 0.04794260859489441},\n",
       "  {'label': 'anger', 'score': 0.009156366810202599},\n",
       "  {'label': 'disgust', 'score': 0.0026284765917807817},\n",
       "  {'label': 'sadness', 'score': 0.002122163539752364}],\n",
       " [{'label': 'neutral', 'score': 0.44937002658843994},\n",
       "  {'label': 'disgust', 'score': 0.27359163761138916},\n",
       "  {'label': 'joy', 'score': 0.10908330976963043},\n",
       "  {'label': 'sadness', 'score': 0.09362746775150299},\n",
       "  {'label': 'anger', 'score': 0.04047830402851105},\n",
       "  {'label': 'surprise', 'score': 0.026970159262418747},\n",
       "  {'label': 'fear', 'score': 0.006879047024995089}],\n",
       " [{'label': 'neutral', 'score': 0.6462159752845764},\n",
       "  {'label': 'sadness', 'score': 0.24273329973220825},\n",
       "  {'label': 'disgust', 'score': 0.04342271760106087},\n",
       "  {'label': 'surprise', 'score': 0.028300564736127853},\n",
       "  {'label': 'joy', 'score': 0.014211472123861313},\n",
       "  {'label': 'fear', 'score': 0.0140841044485569},\n",
       "  {'label': 'anger', 'score': 0.011031901463866234}],\n",
       " [{'label': 'fear', 'score': 0.9281681180000305},\n",
       "  {'label': 'anger', 'score': 0.032191041857004166},\n",
       "  {'label': 'neutral', 'score': 0.01280867587774992},\n",
       "  {'label': 'sadness', 'score': 0.008756861090660095},\n",
       "  {'label': 'surprise', 'score': 0.008597906678915024},\n",
       "  {'label': 'disgust', 'score': 0.008431818336248398},\n",
       "  {'label': 'joy', 'score': 0.0010455837473273277}],\n",
       " [{'label': 'sadness', 'score': 0.9671575427055359},\n",
       "  {'label': 'neutral', 'score': 0.015104127116501331},\n",
       "  {'label': 'disgust', 'score': 0.006480589509010315},\n",
       "  {'label': 'fear', 'score': 0.005393980070948601},\n",
       "  {'label': 'surprise', 'score': 0.002286937553435564},\n",
       "  {'label': 'anger', 'score': 0.0018428878393024206},\n",
       "  {'label': 'joy', 'score': 0.0017338756006211042}],\n",
       " [{'label': 'joy', 'score': 0.932798445224762},\n",
       "  {'label': 'disgust', 'score': 0.0377168171107769},\n",
       "  {'label': 'neutral', 'score': 0.015891803428530693},\n",
       "  {'label': 'sadness', 'score': 0.006444480270147324},\n",
       "  {'label': 'anger', 'score': 0.005024945829063654},\n",
       "  {'label': 'surprise', 'score': 0.0015812049387022853},\n",
       "  {'label': 'fear', 'score': 0.0005423048860393465}],\n",
       " [{'label': 'joy', 'score': 0.6528708338737488},\n",
       "  {'label': 'neutral', 'score': 0.25427478551864624},\n",
       "  {'label': 'surprise', 'score': 0.06808284670114517},\n",
       "  {'label': 'sadness', 'score': 0.009908987209200859},\n",
       "  {'label': 'disgust', 'score': 0.0065122200176119804},\n",
       "  {'label': 'anger', 'score': 0.004821304697543383},\n",
       "  {'label': 'fear', 'score': 0.0035290175583213568}],\n",
       " [{'label': 'neutral', 'score': 0.5494771003723145},\n",
       "  {'label': 'sadness', 'score': 0.11169007420539856},\n",
       "  {'label': 'disgust', 'score': 0.10400661826133728},\n",
       "  {'label': 'surprise', 'score': 0.07876546680927277},\n",
       "  {'label': 'anger', 'score': 0.06413359194993973},\n",
       "  {'label': 'fear', 'score': 0.051362793892621994},\n",
       "  {'label': 'joy', 'score': 0.04056438058614731}]]"
      ]
     },
     "execution_count": 6,
     "metadata": {},
     "output_type": "execute_result"
    }
   ],
   "execution_count": 6
  },
  {
   "metadata": {
    "ExecuteTime": {
     "end_time": "2025-10-04T14:30:28.961571Z",
     "start_time": "2025-10-04T14:30:28.363120Z"
    }
   },
   "cell_type": "code",
   "source": [
    "sentences = books[\"description\"][0].split(\".\")\n",
    "predictions = classifier(sentences)"
   ],
   "id": "7a9a4d89201aa66a",
   "outputs": [],
   "execution_count": 7
  },
  {
   "metadata": {
    "ExecuteTime": {
     "end_time": "2025-10-04T14:30:34.524312Z",
     "start_time": "2025-10-04T14:30:34.516810Z"
    }
   },
   "cell_type": "code",
   "source": "sentences[0]",
   "id": "585e9db2d400d051",
   "outputs": [
    {
     "data": {
      "text/plain": [
       "'A NOVEL THAT READERS and critics have been eagerly anticipating for over a decade, Gilead is an astonishingly imagined story of remarkable lives'"
      ]
     },
     "execution_count": 8,
     "metadata": {},
     "output_type": "execute_result"
    }
   ],
   "execution_count": 8
  },
  {
   "metadata": {
    "ExecuteTime": {
     "end_time": "2025-10-04T14:30:36.921577Z",
     "start_time": "2025-10-04T14:30:36.913581Z"
    }
   },
   "cell_type": "code",
   "source": "predictions[0]",
   "id": "be97bd567dc01bcf",
   "outputs": [
    {
     "data": {
      "text/plain": [
       "[{'label': 'surprise', 'score': 0.7296020984649658},\n",
       " {'label': 'neutral', 'score': 0.14038600027561188},\n",
       " {'label': 'fear', 'score': 0.06816228479146957},\n",
       " {'label': 'joy', 'score': 0.04794260859489441},\n",
       " {'label': 'anger', 'score': 0.009156366810202599},\n",
       " {'label': 'disgust', 'score': 0.0026284765917807817},\n",
       " {'label': 'sadness', 'score': 0.002122163539752364}]"
      ]
     },
     "execution_count": 9,
     "metadata": {},
     "output_type": "execute_result"
    }
   ],
   "execution_count": 9
  },
  {
   "metadata": {},
   "cell_type": "markdown",
   "source": [
    "this idea somewhat seems confusing because now we introduce multiple emotion that can be associated with the same book, so how could we make sense of this ? each book can have separate column for each emotions and instead of categorizing which one is or is not, we can instead take the highest probability from across the whole description for that particular sentiment, example if joy is very high in one sentence but its low across the others we just take that highest score of joy for that book description and so on for the other 7 emotions\n",
    "\n",
    "so what we need to do is process this output of predicter and amalgamate it in such a way that it only give us one maximum score for each of this label"
   ],
   "id": "9ab3899f8d271b0b"
  },
  {
   "metadata": {
    "ExecuteTime": {
     "end_time": "2025-10-04T14:31:22.365134Z",
     "start_time": "2025-10-04T14:31:22.356385Z"
    }
   },
   "cell_type": "code",
   "source": [
    "#previously we have different order for every sentence, now what we can do is sort these by \"score\" instead and what it means is for each sentences we gonna have the same order\n",
    "\n",
    "import numpy as np\n",
    "\n",
    "emotion_labels = [\"anger\", \"disgust\", \"fear\", \"joy\", \"sadness\", \"surprise\", \"neutral\"]\n",
    "isbn = [] #for holding isbn because later on we are gonna crate this dataframe and merge it back with full dataframe\n",
    "emotion_scores = {label: [] for label in emotion_labels} # it is going to contain all the scores of every single description of each of these labels\n",
    "\n",
    "def calculate_max_emotion_scores (predictions): #prediction will be list of prediction result\n",
    "    per_emotion_scores = {label: [] for label in emotion_labels} # this is another dictionary comprehention to hold all of the predictions for a particular description (single description)\n",
    "    for prediction in predictions: # then we loop over each sentences\n",
    "        sorted_prediction = sorted(prediction, key=lambda x: x[\"label\"]) #each sentences returned by prediction we sort it, all the keys of emotions are in the same order\n",
    "        for index, label in enumerate(emotion_labels): #then we loop over that\n",
    "            per_emotion_scores[label].append(sorted_prediction[index][\"score\"]) #and per of each emotions we extract the score and append using the correct label\n",
    "    return {label: np.max(scores) for label, scores in per_emotion_scores.items()} #then append this to the dictionary comprehension then we take the maximum score for each emotions"
   ],
   "id": "da877f640d6d9c3a",
   "outputs": [],
   "execution_count": 10
  },
  {
   "metadata": {
    "ExecuteTime": {
     "end_time": "2025-10-04T14:50:19.490278Z",
     "start_time": "2025-10-04T14:50:12.411541Z"
    }
   },
   "cell_type": "code",
   "source": [
    "#now we need to apply this function to each of the books\n",
    "for i in range(10):\n",
    "    isbn.append(books[\"isbn10\"][i]) #we take isbn10 for that book and append to isbn list\n",
    "    sentences = books[\"description\"][i].split(\".\") #take and split individual sentences\n",
    "    predictions = classifier(sentences) #pass to classifier\n",
    "    max_scores = calculate_max_emotion_scores(predictions) #pass the result to max score function\n",
    "    for label in emotion_labels: #then take the result dictionary from that function\n",
    "        emotion_scores[label].append(max_scores[label])"
   ],
   "id": "31b02601c10fe1f2",
   "outputs": [],
   "execution_count": 11
  },
  {
   "metadata": {},
   "cell_type": "markdown",
   "source": "by this we can have dictionary that becaome the basis of our dataframe with max probability of each book",
   "id": "56035ba841cab554"
  },
  {
   "metadata": {
    "ExecuteTime": {
     "end_time": "2025-10-04T14:52:01.587502Z",
     "start_time": "2025-10-04T14:52:01.579185Z"
    }
   },
   "cell_type": "code",
   "source": "emotion_scores",
   "id": "fc5e4ce79a215f72",
   "outputs": [
    {
     "data": {
      "text/plain": [
       "{'anger': [np.float64(0.06413359194993973),\n",
       "  np.float64(0.6126202344894409),\n",
       "  np.float64(0.06413359194993973),\n",
       "  np.float64(0.35148438811302185),\n",
       "  np.float64(0.08141235262155533),\n",
       "  np.float64(0.2322249710559845),\n",
       "  np.float64(0.5381842255592346),\n",
       "  np.float64(0.06413359194993973),\n",
       "  np.float64(0.3006700277328491),\n",
       "  np.float64(0.06413359194993973)],\n",
       " 'disgust': [np.float64(0.27359163761138916),\n",
       "  np.float64(0.3482847511768341),\n",
       "  np.float64(0.10400661826133728),\n",
       "  np.float64(0.1507224589586258),\n",
       "  np.float64(0.18449543416500092),\n",
       "  np.float64(0.727174699306488),\n",
       "  np.float64(0.155854731798172),\n",
       "  np.float64(0.10400661826133728),\n",
       "  np.float64(0.2794816195964813),\n",
       "  np.float64(0.17792661488056183)],\n",
       " 'fear': [np.float64(0.9281681180000305),\n",
       "  np.float64(0.9425276517868042),\n",
       "  np.float64(0.9723208546638489),\n",
       "  np.float64(0.3607059419155121),\n",
       "  np.float64(0.09504347294569016),\n",
       "  np.float64(0.051362793892621994),\n",
       "  np.float64(0.7474274635314941),\n",
       "  np.float64(0.4044976532459259),\n",
       "  np.float64(0.9155241250991821),\n",
       "  np.float64(0.051362793892621994)],\n",
       " 'joy': [np.float64(0.932798445224762),\n",
       "  np.float64(0.7044219970703125),\n",
       "  np.float64(0.7672380805015564),\n",
       "  np.float64(0.2518811523914337),\n",
       "  np.float64(0.04056438058614731),\n",
       "  np.float64(0.043375786393880844),\n",
       "  np.float64(0.872565746307373),\n",
       "  np.float64(0.04056438058614731),\n",
       "  np.float64(0.04056438058614731),\n",
       "  np.float64(0.04056438058614731)],\n",
       " 'sadness': [np.float64(0.6462159752845764),\n",
       "  np.float64(0.8879395127296448),\n",
       "  np.float64(0.5494771003723145),\n",
       "  np.float64(0.7326844930648804),\n",
       "  np.float64(0.8843896985054016),\n",
       "  np.float64(0.621392011642456),\n",
       "  np.float64(0.7121941447257996),\n",
       "  np.float64(0.5494771003723145),\n",
       "  np.float64(0.840289294719696),\n",
       "  np.float64(0.8603723645210266)],\n",
       " 'surprise': [np.float64(0.9671575427055359),\n",
       "  np.float64(0.11169007420539856),\n",
       "  np.float64(0.11169007420539856),\n",
       "  np.float64(0.11169007420539856),\n",
       "  np.float64(0.4758802652359009),\n",
       "  np.float64(0.11169007420539856),\n",
       "  np.float64(0.40800127387046814),\n",
       "  np.float64(0.8202826380729675),\n",
       "  np.float64(0.35446077585220337),\n",
       "  np.float64(0.11169007420539856)],\n",
       " 'neutral': [np.float64(0.7296020984649658),\n",
       "  np.float64(0.252546101808548),\n",
       "  np.float64(0.07876546680927277),\n",
       "  np.float64(0.07876546680927277),\n",
       "  np.float64(0.07876546680927277),\n",
       "  np.float64(0.27190330624580383),\n",
       "  np.float64(0.07876546680927277),\n",
       "  np.float64(0.2344866842031479),\n",
       "  np.float64(0.13561423122882843),\n",
       "  np.float64(0.07876546680927277)]}"
      ]
     },
     "execution_count": 12,
     "metadata": {},
     "output_type": "execute_result"
    }
   ],
   "execution_count": 12
  },
  {
   "metadata": {
    "ExecuteTime": {
     "end_time": "2025-10-04T15:18:31.054519Z",
     "start_time": "2025-10-04T14:56:16.135583Z"
    }
   },
   "cell_type": "code",
   "source": [
    "#now apply to all the books\n",
    "from tqdm import tqdm\n",
    "\n",
    "\n",
    "emotion_labels = [\"anger\", \"disgust\", \"fear\", \"joy\", \"sadness\", \"surprise\", \"neutral\"]\n",
    "isbn = [] #for holding isbn because later on we are gonna crate this dataframe and merge it back with full dataframe\n",
    "emotion_scores = {label: [] for label in emotion_labels} # it is going to contain all the scores of every single description of each of these labels\n",
    "\n",
    "for i in tqdm(range(len(books))):\n",
    "    isbn.append(books[\"isbn10\"][i])\n",
    "    sentences = books[\"description\"][i].split(\".\") #\n",
    "    predictions = classifier(sentences) #\n",
    "    max_scores = calculate_max_emotion_scores(predictions) #\n",
    "    for label in emotion_labels: #\n",
    "        emotion_scores[label].append(max_scores[label])"
   ],
   "id": "7c1f8a6b5a661191",
   "outputs": [
    {
     "name": "stderr",
     "output_type": "stream",
     "text": [
      "100%|██████████| 5197/5197 [22:14<00:00,  3.89it/s] \n"
     ]
    }
   ],
   "execution_count": 13
  },
  {
   "metadata": {
    "ExecuteTime": {
     "end_time": "2025-10-04T15:18:34.286903Z",
     "start_time": "2025-10-04T15:18:34.254791Z"
    }
   },
   "cell_type": "code",
   "source": [
    "#pass the result to panda dataframe, we don't want the index to be isbn but we gonna create a separate column for isbn and assign isbn list to that\n",
    "emotion_df = pd.DataFrame(emotion_scores)\n",
    "emotion_df[\"isbn10\"] = isbn"
   ],
   "id": "8a79805c3bca7d26",
   "outputs": [],
   "execution_count": 15
  },
  {
   "metadata": {
    "ExecuteTime": {
     "end_time": "2025-10-04T15:18:49.827761Z",
     "start_time": "2025-10-04T15:18:49.770882Z"
    }
   },
   "cell_type": "code",
   "source": "emotion_df",
   "id": "54ad0899ae62e2d4",
   "outputs": [
    {
     "data": {
      "text/plain": [
       "         anger   disgust      fear       joy   sadness  surprise   neutral  \\\n",
       "0     0.064134  0.273592  0.928168  0.932798  0.646216  0.967158  0.729602   \n",
       "1     0.612620  0.348285  0.942528  0.704422  0.887940  0.111690  0.252546   \n",
       "2     0.064134  0.104007  0.972321  0.767238  0.549477  0.111690  0.078765   \n",
       "3     0.351484  0.150722  0.360706  0.251881  0.732684  0.111690  0.078765   \n",
       "4     0.081412  0.184495  0.095043  0.040564  0.884390  0.475880  0.078765   \n",
       "...        ...       ...       ...       ...       ...       ...       ...   \n",
       "5192  0.148208  0.030643  0.919165  0.255172  0.853721  0.980877  0.030656   \n",
       "5193  0.064134  0.114383  0.051363  0.400262  0.883198  0.111690  0.227765   \n",
       "5194  0.009997  0.009929  0.339218  0.947779  0.375754  0.066685  0.057625   \n",
       "5195  0.064134  0.104007  0.459269  0.759456  0.951104  0.368111  0.078765   \n",
       "5196  0.064134  0.104007  0.051363  0.958549  0.915193  0.111690  0.078765   \n",
       "\n",
       "          isbn10  \n",
       "0     0002005883  \n",
       "1     0002261987  \n",
       "2     0006178731  \n",
       "3     0006280897  \n",
       "4     0006280935  \n",
       "...          ...  \n",
       "5192  8172235224  \n",
       "5193  8173031010  \n",
       "5194  817992162X  \n",
       "5195  8185300534  \n",
       "5196  9027712050  \n",
       "\n",
       "[5197 rows x 8 columns]"
      ],
      "text/html": [
       "<div>\n",
       "<style scoped>\n",
       "    .dataframe tbody tr th:only-of-type {\n",
       "        vertical-align: middle;\n",
       "    }\n",
       "\n",
       "    .dataframe tbody tr th {\n",
       "        vertical-align: top;\n",
       "    }\n",
       "\n",
       "    .dataframe thead th {\n",
       "        text-align: right;\n",
       "    }\n",
       "</style>\n",
       "<table border=\"1\" class=\"dataframe\">\n",
       "  <thead>\n",
       "    <tr style=\"text-align: right;\">\n",
       "      <th></th>\n",
       "      <th>anger</th>\n",
       "      <th>disgust</th>\n",
       "      <th>fear</th>\n",
       "      <th>joy</th>\n",
       "      <th>sadness</th>\n",
       "      <th>surprise</th>\n",
       "      <th>neutral</th>\n",
       "      <th>isbn10</th>\n",
       "    </tr>\n",
       "  </thead>\n",
       "  <tbody>\n",
       "    <tr>\n",
       "      <th>0</th>\n",
       "      <td>0.064134</td>\n",
       "      <td>0.273592</td>\n",
       "      <td>0.928168</td>\n",
       "      <td>0.932798</td>\n",
       "      <td>0.646216</td>\n",
       "      <td>0.967158</td>\n",
       "      <td>0.729602</td>\n",
       "      <td>0002005883</td>\n",
       "    </tr>\n",
       "    <tr>\n",
       "      <th>1</th>\n",
       "      <td>0.612620</td>\n",
       "      <td>0.348285</td>\n",
       "      <td>0.942528</td>\n",
       "      <td>0.704422</td>\n",
       "      <td>0.887940</td>\n",
       "      <td>0.111690</td>\n",
       "      <td>0.252546</td>\n",
       "      <td>0002261987</td>\n",
       "    </tr>\n",
       "    <tr>\n",
       "      <th>2</th>\n",
       "      <td>0.064134</td>\n",
       "      <td>0.104007</td>\n",
       "      <td>0.972321</td>\n",
       "      <td>0.767238</td>\n",
       "      <td>0.549477</td>\n",
       "      <td>0.111690</td>\n",
       "      <td>0.078765</td>\n",
       "      <td>0006178731</td>\n",
       "    </tr>\n",
       "    <tr>\n",
       "      <th>3</th>\n",
       "      <td>0.351484</td>\n",
       "      <td>0.150722</td>\n",
       "      <td>0.360706</td>\n",
       "      <td>0.251881</td>\n",
       "      <td>0.732684</td>\n",
       "      <td>0.111690</td>\n",
       "      <td>0.078765</td>\n",
       "      <td>0006280897</td>\n",
       "    </tr>\n",
       "    <tr>\n",
       "      <th>4</th>\n",
       "      <td>0.081412</td>\n",
       "      <td>0.184495</td>\n",
       "      <td>0.095043</td>\n",
       "      <td>0.040564</td>\n",
       "      <td>0.884390</td>\n",
       "      <td>0.475880</td>\n",
       "      <td>0.078765</td>\n",
       "      <td>0006280935</td>\n",
       "    </tr>\n",
       "    <tr>\n",
       "      <th>...</th>\n",
       "      <td>...</td>\n",
       "      <td>...</td>\n",
       "      <td>...</td>\n",
       "      <td>...</td>\n",
       "      <td>...</td>\n",
       "      <td>...</td>\n",
       "      <td>...</td>\n",
       "      <td>...</td>\n",
       "    </tr>\n",
       "    <tr>\n",
       "      <th>5192</th>\n",
       "      <td>0.148208</td>\n",
       "      <td>0.030643</td>\n",
       "      <td>0.919165</td>\n",
       "      <td>0.255172</td>\n",
       "      <td>0.853721</td>\n",
       "      <td>0.980877</td>\n",
       "      <td>0.030656</td>\n",
       "      <td>8172235224</td>\n",
       "    </tr>\n",
       "    <tr>\n",
       "      <th>5193</th>\n",
       "      <td>0.064134</td>\n",
       "      <td>0.114383</td>\n",
       "      <td>0.051363</td>\n",
       "      <td>0.400262</td>\n",
       "      <td>0.883198</td>\n",
       "      <td>0.111690</td>\n",
       "      <td>0.227765</td>\n",
       "      <td>8173031010</td>\n",
       "    </tr>\n",
       "    <tr>\n",
       "      <th>5194</th>\n",
       "      <td>0.009997</td>\n",
       "      <td>0.009929</td>\n",
       "      <td>0.339218</td>\n",
       "      <td>0.947779</td>\n",
       "      <td>0.375754</td>\n",
       "      <td>0.066685</td>\n",
       "      <td>0.057625</td>\n",
       "      <td>817992162X</td>\n",
       "    </tr>\n",
       "    <tr>\n",
       "      <th>5195</th>\n",
       "      <td>0.064134</td>\n",
       "      <td>0.104007</td>\n",
       "      <td>0.459269</td>\n",
       "      <td>0.759456</td>\n",
       "      <td>0.951104</td>\n",
       "      <td>0.368111</td>\n",
       "      <td>0.078765</td>\n",
       "      <td>8185300534</td>\n",
       "    </tr>\n",
       "    <tr>\n",
       "      <th>5196</th>\n",
       "      <td>0.064134</td>\n",
       "      <td>0.104007</td>\n",
       "      <td>0.051363</td>\n",
       "      <td>0.958549</td>\n",
       "      <td>0.915193</td>\n",
       "      <td>0.111690</td>\n",
       "      <td>0.078765</td>\n",
       "      <td>9027712050</td>\n",
       "    </tr>\n",
       "  </tbody>\n",
       "</table>\n",
       "<p>5197 rows × 8 columns</p>\n",
       "</div>"
      ]
     },
     "execution_count": 16,
     "metadata": {},
     "output_type": "execute_result"
    }
   ],
   "execution_count": 16
  },
  {
   "metadata": {
    "ExecuteTime": {
     "end_time": "2025-10-04T15:20:42.611402Z",
     "start_time": "2025-10-04T15:20:42.569589Z"
    }
   },
   "cell_type": "code",
   "source": [
    "#final thing : merge back to the dataset\n",
    "books = pd.merge(books, emotion_df, on=\"isbn10\")"
   ],
   "id": "16d5503bdd21262f",
   "outputs": [],
   "execution_count": 17
  },
  {
   "metadata": {
    "ExecuteTime": {
     "end_time": "2025-10-04T15:21:35.280597Z",
     "start_time": "2025-10-04T15:21:35.273203Z"
    }
   },
   "cell_type": "code",
   "source": [
    "def count_summary (df):\n",
    "    summary = pd.DataFrame({\n",
    "        'total' : [df.shape[0]]*df.shape[1],\n",
    "        'non-null count' : df.count(),\n",
    "        'unique count' : df.nunique(),\n",
    "        'missing-count' : df.isnull().sum(),\n",
    "        'missing-percent' : df.isnull().sum() / df.shape[0] * 100\n",
    "    })\n",
    "    return summary.sort_values('missing-percent', ascending=False)"
   ],
   "id": "d16287f3bdc0baba",
   "outputs": [],
   "execution_count": 18
  },
  {
   "metadata": {
    "ExecuteTime": {
     "end_time": "2025-10-04T15:21:37.438544Z",
     "start_time": "2025-10-04T15:21:37.334388Z"
    }
   },
   "cell_type": "code",
   "source": "count_summary(books)",
   "id": "cf3c963964b1fb92",
   "outputs": [
    {
     "data": {
      "text/plain": [
       "                    total  non-null count  unique count  missing-count  \\\n",
       "thumbnail            5197            5031          5031            166   \n",
       "authors              5197            5165          3045             32   \n",
       "categories           5197            5167           479             30   \n",
       "title                5197            5197          4969              0   \n",
       "isbn13               5197            5197          5197              0   \n",
       "isbn10               5197            5197          5197              0   \n",
       "description          5197            5197          5154              0   \n",
       "published_year       5197            5197            83              0   \n",
       "average_rating       5197            5197           190              0   \n",
       "num_pages            5197            5197           808              0   \n",
       "ratings_count        5197            5197          3242              0   \n",
       "title_and_subtitle   5197            5197          5056              0   \n",
       "tag_description      5197            5197          5197              0   \n",
       "simple_categories    5197            5197             4              0   \n",
       "anger                5197            5197          2257              0   \n",
       "disgust              5197            5197          2202              0   \n",
       "fear                 5197            5197          3139              0   \n",
       "joy                  5197            5197          3357              0   \n",
       "sadness              5197            5197          3007              0   \n",
       "surprise             5197            5197          2027              0   \n",
       "neutral              5197            5197          2355              0   \n",
       "\n",
       "                    missing-percent  \n",
       "thumbnail                  3.194150  \n",
       "authors                    0.615740  \n",
       "categories                 0.577256  \n",
       "title                      0.000000  \n",
       "isbn13                     0.000000  \n",
       "isbn10                     0.000000  \n",
       "description                0.000000  \n",
       "published_year             0.000000  \n",
       "average_rating             0.000000  \n",
       "num_pages                  0.000000  \n",
       "ratings_count              0.000000  \n",
       "title_and_subtitle         0.000000  \n",
       "tag_description            0.000000  \n",
       "simple_categories          0.000000  \n",
       "anger                      0.000000  \n",
       "disgust                    0.000000  \n",
       "fear                       0.000000  \n",
       "joy                        0.000000  \n",
       "sadness                    0.000000  \n",
       "surprise                   0.000000  \n",
       "neutral                    0.000000  "
      ],
      "text/html": [
       "<div>\n",
       "<style scoped>\n",
       "    .dataframe tbody tr th:only-of-type {\n",
       "        vertical-align: middle;\n",
       "    }\n",
       "\n",
       "    .dataframe tbody tr th {\n",
       "        vertical-align: top;\n",
       "    }\n",
       "\n",
       "    .dataframe thead th {\n",
       "        text-align: right;\n",
       "    }\n",
       "</style>\n",
       "<table border=\"1\" class=\"dataframe\">\n",
       "  <thead>\n",
       "    <tr style=\"text-align: right;\">\n",
       "      <th></th>\n",
       "      <th>total</th>\n",
       "      <th>non-null count</th>\n",
       "      <th>unique count</th>\n",
       "      <th>missing-count</th>\n",
       "      <th>missing-percent</th>\n",
       "    </tr>\n",
       "  </thead>\n",
       "  <tbody>\n",
       "    <tr>\n",
       "      <th>thumbnail</th>\n",
       "      <td>5197</td>\n",
       "      <td>5031</td>\n",
       "      <td>5031</td>\n",
       "      <td>166</td>\n",
       "      <td>3.194150</td>\n",
       "    </tr>\n",
       "    <tr>\n",
       "      <th>authors</th>\n",
       "      <td>5197</td>\n",
       "      <td>5165</td>\n",
       "      <td>3045</td>\n",
       "      <td>32</td>\n",
       "      <td>0.615740</td>\n",
       "    </tr>\n",
       "    <tr>\n",
       "      <th>categories</th>\n",
       "      <td>5197</td>\n",
       "      <td>5167</td>\n",
       "      <td>479</td>\n",
       "      <td>30</td>\n",
       "      <td>0.577256</td>\n",
       "    </tr>\n",
       "    <tr>\n",
       "      <th>title</th>\n",
       "      <td>5197</td>\n",
       "      <td>5197</td>\n",
       "      <td>4969</td>\n",
       "      <td>0</td>\n",
       "      <td>0.000000</td>\n",
       "    </tr>\n",
       "    <tr>\n",
       "      <th>isbn13</th>\n",
       "      <td>5197</td>\n",
       "      <td>5197</td>\n",
       "      <td>5197</td>\n",
       "      <td>0</td>\n",
       "      <td>0.000000</td>\n",
       "    </tr>\n",
       "    <tr>\n",
       "      <th>isbn10</th>\n",
       "      <td>5197</td>\n",
       "      <td>5197</td>\n",
       "      <td>5197</td>\n",
       "      <td>0</td>\n",
       "      <td>0.000000</td>\n",
       "    </tr>\n",
       "    <tr>\n",
       "      <th>description</th>\n",
       "      <td>5197</td>\n",
       "      <td>5197</td>\n",
       "      <td>5154</td>\n",
       "      <td>0</td>\n",
       "      <td>0.000000</td>\n",
       "    </tr>\n",
       "    <tr>\n",
       "      <th>published_year</th>\n",
       "      <td>5197</td>\n",
       "      <td>5197</td>\n",
       "      <td>83</td>\n",
       "      <td>0</td>\n",
       "      <td>0.000000</td>\n",
       "    </tr>\n",
       "    <tr>\n",
       "      <th>average_rating</th>\n",
       "      <td>5197</td>\n",
       "      <td>5197</td>\n",
       "      <td>190</td>\n",
       "      <td>0</td>\n",
       "      <td>0.000000</td>\n",
       "    </tr>\n",
       "    <tr>\n",
       "      <th>num_pages</th>\n",
       "      <td>5197</td>\n",
       "      <td>5197</td>\n",
       "      <td>808</td>\n",
       "      <td>0</td>\n",
       "      <td>0.000000</td>\n",
       "    </tr>\n",
       "    <tr>\n",
       "      <th>ratings_count</th>\n",
       "      <td>5197</td>\n",
       "      <td>5197</td>\n",
       "      <td>3242</td>\n",
       "      <td>0</td>\n",
       "      <td>0.000000</td>\n",
       "    </tr>\n",
       "    <tr>\n",
       "      <th>title_and_subtitle</th>\n",
       "      <td>5197</td>\n",
       "      <td>5197</td>\n",
       "      <td>5056</td>\n",
       "      <td>0</td>\n",
       "      <td>0.000000</td>\n",
       "    </tr>\n",
       "    <tr>\n",
       "      <th>tag_description</th>\n",
       "      <td>5197</td>\n",
       "      <td>5197</td>\n",
       "      <td>5197</td>\n",
       "      <td>0</td>\n",
       "      <td>0.000000</td>\n",
       "    </tr>\n",
       "    <tr>\n",
       "      <th>simple_categories</th>\n",
       "      <td>5197</td>\n",
       "      <td>5197</td>\n",
       "      <td>4</td>\n",
       "      <td>0</td>\n",
       "      <td>0.000000</td>\n",
       "    </tr>\n",
       "    <tr>\n",
       "      <th>anger</th>\n",
       "      <td>5197</td>\n",
       "      <td>5197</td>\n",
       "      <td>2257</td>\n",
       "      <td>0</td>\n",
       "      <td>0.000000</td>\n",
       "    </tr>\n",
       "    <tr>\n",
       "      <th>disgust</th>\n",
       "      <td>5197</td>\n",
       "      <td>5197</td>\n",
       "      <td>2202</td>\n",
       "      <td>0</td>\n",
       "      <td>0.000000</td>\n",
       "    </tr>\n",
       "    <tr>\n",
       "      <th>fear</th>\n",
       "      <td>5197</td>\n",
       "      <td>5197</td>\n",
       "      <td>3139</td>\n",
       "      <td>0</td>\n",
       "      <td>0.000000</td>\n",
       "    </tr>\n",
       "    <tr>\n",
       "      <th>joy</th>\n",
       "      <td>5197</td>\n",
       "      <td>5197</td>\n",
       "      <td>3357</td>\n",
       "      <td>0</td>\n",
       "      <td>0.000000</td>\n",
       "    </tr>\n",
       "    <tr>\n",
       "      <th>sadness</th>\n",
       "      <td>5197</td>\n",
       "      <td>5197</td>\n",
       "      <td>3007</td>\n",
       "      <td>0</td>\n",
       "      <td>0.000000</td>\n",
       "    </tr>\n",
       "    <tr>\n",
       "      <th>surprise</th>\n",
       "      <td>5197</td>\n",
       "      <td>5197</td>\n",
       "      <td>2027</td>\n",
       "      <td>0</td>\n",
       "      <td>0.000000</td>\n",
       "    </tr>\n",
       "    <tr>\n",
       "      <th>neutral</th>\n",
       "      <td>5197</td>\n",
       "      <td>5197</td>\n",
       "      <td>2355</td>\n",
       "      <td>0</td>\n",
       "      <td>0.000000</td>\n",
       "    </tr>\n",
       "  </tbody>\n",
       "</table>\n",
       "</div>"
      ]
     },
     "execution_count": 19,
     "metadata": {},
     "output_type": "execute_result"
    }
   ],
   "execution_count": 19
  },
  {
   "metadata": {
    "ExecuteTime": {
     "end_time": "2025-10-04T15:24:51.952121Z",
     "start_time": "2025-10-04T15:24:51.618291Z"
    }
   },
   "cell_type": "code",
   "source": "books.to_csv(\"books_with_emotions.csv\", index=False)",
   "id": "5faa980db89681f6",
   "outputs": [],
   "execution_count": 20
  },
  {
   "metadata": {},
   "cell_type": "code",
   "outputs": [],
   "execution_count": null,
   "source": "",
   "id": "f7a44fab21cf79d9"
  }
 ],
 "metadata": {
  "kernelspec": {
   "display_name": "Python 3",
   "language": "python",
   "name": "python3"
  },
  "language_info": {
   "codemirror_mode": {
    "name": "ipython",
    "version": 2
   },
   "file_extension": ".py",
   "mimetype": "text/x-python",
   "name": "python",
   "nbconvert_exporter": "python",
   "pygments_lexer": "ipython2",
   "version": "2.7.6"
  }
 },
 "nbformat": 4,
 "nbformat_minor": 5
}
